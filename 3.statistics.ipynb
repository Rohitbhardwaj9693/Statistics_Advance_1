{
 "cells": [
  {
   "cell_type": "code",
   "execution_count": 1,
   "id": "e33ce199-1a36-4d98-a5ac-ae933b645e33",
   "metadata": {},
   "outputs": [],
   "source": [
    "                                    # Name-: Rohit Bhardwaj                               \n",
    "                                 # Batch-: Data science Master\n",
    "                                 # Asssignment :- Statistics Advance_1\n",
    "                                      \n",
    "\n",
    "\n",
    "\n",
    "\n",
    "# Q1. What is the Probability density function?\n",
    "\n",
    "\n",
    "# The Probability Density Function (PDF) is a fundamental concept in probability\n",
    "# theory and statistics. It describes the likelihood of a continuous random variable\n",
    "# taking on a specific value within a given range. In other words, it defines the \n",
    "# probability distribution of a continuous random variable.\n",
    "\n",
    "\n",
    "# For a continuous random variable X, the PDF is typically denoted as f(x)\n",
    "# and has the following properties:\n",
    "\n",
    "# Non-negative values: The PDF is non-negative for all possible \n",
    "# values of X. In mathematical terms, f(x) ≥ 0 for all x.\n",
    "\n",
    "# Total area under the curve:\n",
    "\n",
    "# The total area under the PDF curve over its entire range is equal to 1. This means that the\n",
    "# probability of X falling within the entire range of possible values is 1."
   ]
  },
  {
   "cell_type": "code",
   "execution_count": null,
   "id": "8b5938ef-8209-4e84-aad9-cadff323da9e",
   "metadata": {},
   "outputs": [],
   "source": []
  },
  {
   "cell_type": "code",
   "execution_count": 1,
   "id": "a75f7767-8bff-4834-bf61-a28214f77c8b",
   "metadata": {},
   "outputs": [],
   "source": [
    "# Q2. What are the types of Probability distribution?\n",
    "# Uniform Distribution\n",
    "    \n",
    "# Bernoulli Distribution  \n",
    "    \n",
    "# Binomial Distribution  \n",
    "\n",
    "# Poisson Distribution\n",
    "\n",
    "# Uniform Distribution\n",
    "    \n",
    "# Normal (Gaussian) Distribution     "
   ]
  },
  {
   "cell_type": "code",
   "execution_count": null,
   "id": "b472f5aa-0414-4dff-9e9c-4e59c3ea63e5",
   "metadata": {},
   "outputs": [],
   "source": []
  },
  {
   "cell_type": "code",
   "execution_count": 22,
   "id": "cad89811-cc04-454a-ad17-8a84addc54e1",
   "metadata": {},
   "outputs": [
    {
     "name": "stdout",
     "output_type": "stream",
     "text": [
      "0.2129653370149015\n"
     ]
    }
   ],
   "source": [
    "# Q3. Write a Python function to calculate the probability density function of a normal distribution with\n",
    "# given mean and standard deviation at a given point.\n",
    "\n",
    "import scipy.stats as stats\n",
    "def normal_pdf(mean,std_dev,x):\n",
    "    pdf = stats.norm.pdf(x,loc = mean,scale = std_dev)\n",
    "    return pdf\n",
    "\n",
    "# mean = 2.0 \n",
    "# std_dev = 1.5\n",
    "# x = 3.0\n",
    "\n",
    "pdf_value = normal_pdf(2.0,1.5,3.0)\n",
    "print(pdf_value)"
   ]
  },
  {
   "cell_type": "code",
   "execution_count": 23,
   "id": "5ad17d12-4908-40ed-a0c2-307159810a81",
   "metadata": {},
   "outputs": [],
   "source": [
    "# Q4. What are the properties of Binomial distribution? Give two examples of events where binomial\n",
    "# distribution can be applied.\n",
    "\n",
    "\n",
    "\n",
    "# The Binomial distribution is a discrete probability distribution that models\n",
    "# the number of successes in a fixed number of independent Bernoulli trials\n",
    "# (experiments), where each trial results in a binary outcome (success or failure).\n",
    "# The Binomial distribution has several key properties:\n",
    "\n",
    "# Fixed Number of Trials (n): The distribution assumes a fixed number of trials or \n",
    "# experiments, denoted as \"n.\"\n",
    "\n",
    "# Two Possible Outcomes: Each trial has only two possible outcomes, typically referred to as\n",
    "# \"success\" (often denoted as \"S\") and \"failure\" (often denoted as \"F\").\n",
    "\n",
    "# Independent Trials: The trials are assumed to be independent of each other, meaning \n",
    "# the outcome of one trial does not affect the outcome of the others.\n",
    "\n",
    "# Constant Probability of Success (p): The probability of success (P(S)) is the same for \n",
    "# each trial and is denoted as \"p.\" The probability of failure (P(F)) is complementary \n",
    "# and equal to (1 - p).\n",
    "\n",
    "# Discrete Random Variable: The Binomial random variable \"X\" represents the number \n",
    "# of successes in the \"n\" trials, and it can take on integer values from 0 to n.\n",
    "\n",
    "# Probability Mass Function (PMF): The probability mass function of the Binomial distribution is given by:\n",
    "\n",
    "\n",
    "\n",
    "# Two examples of events where the Binomial distribution can be applied are:\n",
    "\n",
    "# tossing a coin 10 times"
   ]
  },
  {
   "cell_type": "code",
   "execution_count": null,
   "id": "54897e85-b0a6-4327-b47b-868b55807c0b",
   "metadata": {},
   "outputs": [],
   "source": []
  },
  {
   "cell_type": "code",
   "execution_count": 37,
   "id": "e26a5695-0a9a-4dfd-8d38-e0fd5020ba0c",
   "metadata": {},
   "outputs": [
    {
     "data": {
      "image/png": "[encoded data removed]",
      "text/plain": [
       "<Figure size 640x480 with 1 Axes>"
      ]
     },
     "metadata": {},
     "output_type": "display_data"
    }
   ],
   "source": [
    "import matplotlib.pyplot as  plt\n",
    "import numpy as np\n",
    "\n",
    "sample_size = 1000\n",
    "probablity_of_success = 0.4\n",
    "\n",
    "random_sample = np.random.binomial(4,probablity_of_success,sample_size)\n",
    "plt.hist(random_sample,color = 'green')\n",
    "\n",
    "plt.xlabel('outcome')\n",
    "plt.ylabel('frequency')\n",
    "plt.title(f'Binomial Distribution (n= 4)')\n",
    "plt.show()\n",
    "\n"
   ]
  },
  {
   "cell_type": "code",
   "execution_count": 38,
   "id": "48fdc4d9-4aef-4258-a865-228532928c89",
   "metadata": {},
   "outputs": [],
   "source": [
    "# Q5. Generate a random sample of size 1000 from a binomial distribution with probability of success 0.4\n",
    "# and plot a histogram of the results using matplotlib."
   ]
  },
  {
   "cell_type": "code",
   "execution_count": null,
   "id": "009ffc2c-28a8-44e4-b593-a58115ad71f4",
   "metadata": {},
   "outputs": [],
   "source": [
    "# Q7. How Binomial distribution different from Poisson distribution?\n",
    "\n",
    "\n",
    "\n"
   ]
  },
  {
   "cell_type": "code",
   "execution_count": null,
   "id": "184c2b2d-3cc5-4e94-ad68-e6083f9943a0",
   "metadata": {},
   "outputs": [],
   "source": []
  },
  {
   "cell_type": "code",
   "execution_count": 40,
   "id": "93826e16-65ef-4dcf-a77f-4a2e350085bf",
   "metadata": {},
   "outputs": [
    {
     "name": "stdout",
     "output_type": "stream",
     "text": [
      "1014.0\n",
      "338.8\n"
     ]
    }
   ],
   "source": [
    "# Q8. Generate a random sample of size 1000 from a Poisson distribution with mean 5 and calculate the\n",
    "# sample mean and variance.\n",
    "\n",
    "\n",
    "\n",
    "import numpy as np\n",
    "sample_size1 = 1000\n",
    "mean1 = 5\n",
    "\n",
    "random_sample1 = np.random.poisson(sample_size1,mean1)\n",
    "\n",
    "sample_mean1 = np.mean(random_sample1)\n",
    "variance = np.var(random_sample1)\n",
    "\n",
    "print(sample_mean1)\n",
    "print(variance)"
   ]
  },
  {
   "cell_type": "code",
   "execution_count": 41,
   "id": "95339d39-d685-49cc-88cd-cd6866cf7c90",
   "metadata": {},
   "outputs": [],
   "source": [
    "# Q9. How mean and variance are related in Binomial distribution and Poisson distribution?\n",
    "\n",
    "# The variance of a Binomial distribution depends on both the number \n",
    "# of trials (n) and the probability of success (p) in each trial. As \n",
    "# the number of trials (n) increases while keeping the probability of\n",
    "# success (p) constant, the variance (σ^2) tends to increase\n",
    "# proportionally.\n",
    "\n",
    "# In the Poisson distribution, the mean (μ) and variance (σ^2) are \n",
    "# equal, and they both depend solely on the rate parameter λ. As \n",
    "# λ increases, both the mean and variance of the Poisson distribution\n",
    "# increase proportionally.\n"
   ]
  },
  {
   "cell_type": "code",
   "execution_count": null,
   "id": "073c62d5-6166-47ec-bd87-2dfacfac7130",
   "metadata": {},
   "outputs": [],
   "source": [
    "# 10.In the Poisson distribution, the mean (μ) and variance (σ^2) are equal, and they\n",
    "# both depend solely on the rate parameter λ. As λ increases, both the mean and variance\n",
    "# of the Poisson distribution increase proportionally."
   ]
  }
 ],
 "metadata": {
  "kernelspec": {
   "display_name": "Python 3 (ipykernel)",
   "language": "python",
   "name": "python3"
  },
  "language_info": {
   "codemirror_mode": {
    "name": "ipython",
    "version": 3
   },
   "file_extension": ".py",
   "mimetype": "text/x-python",
   "name": "python",
   "nbconvert_exporter": "python",
   "pygments_lexer": "ipython3",
   "version": "3.10.8"
  }
 },
 "nbformat": 4,
 "nbformat_minor": 5
}
